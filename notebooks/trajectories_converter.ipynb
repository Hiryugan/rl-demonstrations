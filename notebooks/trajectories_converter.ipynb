{
 "cells": [
  {
   "cell_type": "code",
   "execution_count": 83,
   "metadata": {},
   "outputs": [],
   "source": [
    "import torch\n",
    "import pandas as pd\n",
    "import os\n",
    "import sys\n",
    "import numpy as np\n",
    "import gym\n",
    "from collections import defaultdict"
   ]
  },
  {
   "cell_type": "code",
   "execution_count": 84,
   "metadata": {},
   "outputs": [],
   "source": [
    "dir_path = os.path.dirname(os.path.realpath('__file__'))\n",
    "parent_dir = f\"../src\"\n",
    "sys.path.insert(0, parent_dir) \n",
    "\n",
    "from QNetwork import QNetwork"
   ]
  },
  {
   "cell_type": "code",
   "execution_count": 85,
   "metadata": {},
   "outputs": [
    {
     "name": "stdout",
     "output_type": "stream",
     "text": [
      "\u001b[33mWARN: gym.spaces.Box autodetected dtype as <class 'numpy.float32'>. Please provide explicit dtype.\u001b[0m\n"
     ]
    }
   ],
   "source": [
    "env_name = \"MountainCar-v0\"\n",
    "env = gym.envs.make(env_name)\n",
    "\n",
    "dir = f\"{dir_path}/../data/{env_name}\"\n",
    "\n",
    "model = torch.load(f\"{dir}/weights.pt\")\n",
    "d = torch.load(f\"{dir}/results.pkl\")\n",
    "trajectories = torch.load(f\"{dir}/trajectories.pkl\")\n",
    "\n",
    "discount = 0.9"
   ]
  },
  {
   "cell_type": "code",
   "execution_count": 91,
   "metadata": {},
   "outputs": [],
   "source": [
    "trajectory_dict = defaultdict(dict)\n",
    "for i, trajectory_tuple in enumerate(trajectories):\n",
    "    trajectory, seed = trajectory_tuple\n",
    "    trajectory_dict[i][\"seed\"] = seed\n",
    "    trajectory_dict[i][\"trajectory\"] = trajectory\n",
    "    trajectory_dict[i][\"episode_length\"] = len(trajectory)\n",
    "    \n",
    "    # Not really a way to account for the agent finishing right in the last second\n",
    "    trajectory_dict[i][\"is_finished\"] = len(trajectory) < env._max_episode_steps\n",
    "    _, _, rewards, _, _ = zip(*trajectory)\n",
    "    \n",
    "    trajectory_dict[i][\"max_reward\"] = np.max(rewards)\n",
    "    trajectory_dict[i][\"sum_reward\"] = np.sum(rewards)\n",
    "    discounts = [np.power(discount, i) for i in range(len(rewards))][::-1]\n",
    "    trajectory_dict[i][\"sum_discounted_reward\"] = np.sum([rewards[i] * discounts[i] for i in range(len(rewards))])"
   ]
  },
  {
   "cell_type": "code",
   "execution_count": 92,
   "metadata": {},
   "outputs": [],
   "source": [
    "df = pd.DataFrame.from_dict(trajectory_dict).T"
   ]
  },
  {
   "cell_type": "code",
   "execution_count": 93,
   "metadata": {},
   "outputs": [
    {
     "data": {
      "text/html": [
       "<div>\n",
       "<style scoped>\n",
       "    .dataframe tbody tr th:only-of-type {\n",
       "        vertical-align: middle;\n",
       "    }\n",
       "\n",
       "    .dataframe tbody tr th {\n",
       "        vertical-align: top;\n",
       "    }\n",
       "\n",
       "    .dataframe thead th {\n",
       "        text-align: right;\n",
       "    }\n",
       "</style>\n",
       "<table border=\"1\" class=\"dataframe\">\n",
       "  <thead>\n",
       "    <tr style=\"text-align: right;\">\n",
       "      <th></th>\n",
       "      <th>episode_length</th>\n",
       "      <th>is_finished</th>\n",
       "      <th>max_reward</th>\n",
       "      <th>seed</th>\n",
       "      <th>sum_discounted_reward</th>\n",
       "      <th>sum_reward</th>\n",
       "      <th>trajectory</th>\n",
       "    </tr>\n",
       "  </thead>\n",
       "  <tbody>\n",
       "    <tr>\n",
       "      <th>0</th>\n",
       "      <td>200</td>\n",
       "      <td>False</td>\n",
       "      <td>-1</td>\n",
       "      <td>0</td>\n",
       "      <td>-10</td>\n",
       "      <td>-200</td>\n",
       "      <td>[([-0.5891279887498433, 0.0], 2, -1.0, [-0.587...</td>\n",
       "    </tr>\n",
       "    <tr>\n",
       "      <th>1</th>\n",
       "      <td>200</td>\n",
       "      <td>False</td>\n",
       "      <td>-1</td>\n",
       "      <td>1</td>\n",
       "      <td>-10</td>\n",
       "      <td>-200</td>\n",
       "      <td>[([-0.4385219128542218, 0.0], 2, -1.0, [-0.438...</td>\n",
       "    </tr>\n",
       "    <tr>\n",
       "      <th>2</th>\n",
       "      <td>200</td>\n",
       "      <td>False</td>\n",
       "      <td>-1</td>\n",
       "      <td>2</td>\n",
       "      <td>-10</td>\n",
       "      <td>-200</td>\n",
       "      <td>[([-0.43062342592296066, 0.0], 0, -1.0, [-0.43...</td>\n",
       "    </tr>\n",
       "    <tr>\n",
       "      <th>3</th>\n",
       "      <td>200</td>\n",
       "      <td>False</td>\n",
       "      <td>-1</td>\n",
       "      <td>3</td>\n",
       "      <td>-10</td>\n",
       "      <td>-200</td>\n",
       "      <td>[([-0.45437538945067857, 0.0], 0, -1.0, [-0.45...</td>\n",
       "    </tr>\n",
       "    <tr>\n",
       "      <th>4</th>\n",
       "      <td>200</td>\n",
       "      <td>False</td>\n",
       "      <td>-1</td>\n",
       "      <td>4</td>\n",
       "      <td>-10</td>\n",
       "      <td>-200</td>\n",
       "      <td>[([-0.4491204486681113, 0.0], 1, -1.0, [-0.449...</td>\n",
       "    </tr>\n",
       "  </tbody>\n",
       "</table>\n",
       "</div>"
      ],
      "text/plain": [
       "  episode_length is_finished max_reward seed sum_discounted_reward sum_reward  \\\n",
       "0            200       False         -1    0                   -10       -200   \n",
       "1            200       False         -1    1                   -10       -200   \n",
       "2            200       False         -1    2                   -10       -200   \n",
       "3            200       False         -1    3                   -10       -200   \n",
       "4            200       False         -1    4                   -10       -200   \n",
       "\n",
       "                                          trajectory  \n",
       "0  [([-0.5891279887498433, 0.0], 2, -1.0, [-0.587...  \n",
       "1  [([-0.4385219128542218, 0.0], 2, -1.0, [-0.438...  \n",
       "2  [([-0.43062342592296066, 0.0], 0, -1.0, [-0.43...  \n",
       "3  [([-0.45437538945067857, 0.0], 0, -1.0, [-0.45...  \n",
       "4  [([-0.4491204486681113, 0.0], 1, -1.0, [-0.449...  "
      ]
     },
     "execution_count": 93,
     "metadata": {},
     "output_type": "execute_result"
    }
   ],
   "source": [
    "df.head()"
   ]
  }
 ],
 "metadata": {
  "kernelspec": {
   "display_name": "Python [conda env:py36]",
   "language": "python",
   "name": "conda-env-py36-py"
  },
  "language_info": {
   "codemirror_mode": {
    "name": "ipython",
    "version": 3
   },
   "file_extension": ".py",
   "mimetype": "text/x-python",
   "name": "python",
   "nbconvert_exporter": "python",
   "pygments_lexer": "ipython3",
   "version": "3.6.4"
  }
 },
 "nbformat": 4,
 "nbformat_minor": 2
}
