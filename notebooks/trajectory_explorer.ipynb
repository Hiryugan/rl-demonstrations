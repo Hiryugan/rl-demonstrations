{
 "cells": [
  {
   "cell_type": "code",
   "execution_count": 7,
   "metadata": {},
   "outputs": [
    {
     "name": "stdout",
     "output_type": "stream",
     "text": [
      "\u001b[33mWARN: gym.spaces.Box autodetected dtype as <class 'numpy.float32'>. Please provide explicit dtype.\u001b[0m\n"
     ]
    }
   ],
   "source": [
    "import torch\n",
    "import pandas as pd\n",
    "import os\n",
    "import sys\n",
    "import numpy as np\n",
    "import gym\n",
    "from collections import defaultdict\n",
    "\n",
    "dir_path = os.path.dirname(os.path.realpath('__file__'))\n",
    "parent_dir = f\"../src\"\n",
    "sys.path.insert(0, parent_dir) \n",
    "\n",
    "from QNetwork import QNetwork\n",
    "from utils import load_trajectories, load_model, store_trajectories\n",
    "from replay import play_trajectory, play_episodes\n",
    "\n",
    "env_name = 'MountainCar-v0'\n",
    "env = gym.envs.make(env_name)\n",
    "discount_factor = 0.99\n",
    "\n",
    "dir = f\"{dir_path}/../data/{env_name}\""
   ]
  },
  {
   "cell_type": "code",
   "execution_count": 8,
   "metadata": {},
   "outputs": [
    {
     "data": {
      "text/html": [
       "<div>\n",
       "<style scoped>\n",
       "    .dataframe tbody tr th:only-of-type {\n",
       "        vertical-align: middle;\n",
       "    }\n",
       "\n",
       "    .dataframe tbody tr th {\n",
       "        vertical-align: top;\n",
       "    }\n",
       "\n",
       "    .dataframe thead th {\n",
       "        text-align: right;\n",
       "    }\n",
       "</style>\n",
       "<table border=\"1\" class=\"dataframe\">\n",
       "  <thead>\n",
       "    <tr style=\"text-align: right;\">\n",
       "      <th></th>\n",
       "      <th>env_name</th>\n",
       "      <th>env_params</th>\n",
       "      <th>episode_length</th>\n",
       "      <th>max_reward</th>\n",
       "      <th>seed</th>\n",
       "      <th>sum_discounted_reward</th>\n",
       "      <th>sum_reward</th>\n",
       "      <th>trajectory</th>\n",
       "    </tr>\n",
       "  </thead>\n",
       "  <tbody>\n",
       "    <tr>\n",
       "      <th>495</th>\n",
       "      <td>MountainCar-v0</td>\n",
       "      <td>None</td>\n",
       "      <td>87</td>\n",
       "      <td>-1.0</td>\n",
       "      <td>495</td>\n",
       "      <td>-58.287912</td>\n",
       "      <td>-87.0</td>\n",
       "      <td>[([-0.4024656009849641, 0.0], 0, -1.0, [-0.404...</td>\n",
       "    </tr>\n",
       "    <tr>\n",
       "      <th>478</th>\n",
       "      <td>MountainCar-v0</td>\n",
       "      <td>None</td>\n",
       "      <td>87</td>\n",
       "      <td>-1.0</td>\n",
       "      <td>478</td>\n",
       "      <td>-58.287912</td>\n",
       "      <td>-87.0</td>\n",
       "      <td>[([-0.40035870598310025, 0.0], 0, -1.0, [-0.40...</td>\n",
       "    </tr>\n",
       "    <tr>\n",
       "      <th>429</th>\n",
       "      <td>MountainCar-v0</td>\n",
       "      <td>None</td>\n",
       "      <td>92</td>\n",
       "      <td>-1.0</td>\n",
       "      <td>429</td>\n",
       "      <td>-60.332219</td>\n",
       "      <td>-92.0</td>\n",
       "      <td>[([-0.400928104015099, 0.0], 0, -1.0, [-0.4028...</td>\n",
       "    </tr>\n",
       "    <tr>\n",
       "      <th>462</th>\n",
       "      <td>MountainCar-v0</td>\n",
       "      <td>None</td>\n",
       "      <td>92</td>\n",
       "      <td>-1.0</td>\n",
       "      <td>462</td>\n",
       "      <td>-60.332219</td>\n",
       "      <td>-92.0</td>\n",
       "      <td>[([-0.4049485509495422, 0.0], 1, -1.0, [-0.405...</td>\n",
       "    </tr>\n",
       "    <tr>\n",
       "      <th>416</th>\n",
       "      <td>MountainCar-v0</td>\n",
       "      <td>None</td>\n",
       "      <td>94</td>\n",
       "      <td>-1.0</td>\n",
       "      <td>416</td>\n",
       "      <td>-61.121608</td>\n",
       "      <td>-94.0</td>\n",
       "      <td>[([-0.41048496714510657, 0.0], 0, -1.0, [-0.41...</td>\n",
       "    </tr>\n",
       "  </tbody>\n",
       "</table>\n",
       "</div>"
      ],
      "text/plain": [
       "           env_name env_params  episode_length  max_reward  seed  \\\n",
       "495  MountainCar-v0       None              87        -1.0   495   \n",
       "478  MountainCar-v0       None              87        -1.0   478   \n",
       "429  MountainCar-v0       None              92        -1.0   429   \n",
       "462  MountainCar-v0       None              92        -1.0   462   \n",
       "416  MountainCar-v0       None              94        -1.0   416   \n",
       "\n",
       "     sum_discounted_reward  sum_reward  \\\n",
       "495             -58.287912       -87.0   \n",
       "478             -58.287912       -87.0   \n",
       "429             -60.332219       -92.0   \n",
       "462             -60.332219       -92.0   \n",
       "416             -61.121608       -94.0   \n",
       "\n",
       "                                            trajectory  \n",
       "495  [([-0.4024656009849641, 0.0], 0, -1.0, [-0.404...  \n",
       "478  [([-0.40035870598310025, 0.0], 0, -1.0, [-0.40...  \n",
       "429  [([-0.400928104015099, 0.0], 0, -1.0, [-0.4028...  \n",
       "462  [([-0.4049485509495422, 0.0], 1, -1.0, [-0.405...  \n",
       "416  [([-0.41048496714510657, 0.0], 0, -1.0, [-0.41...  "
      ]
     },
     "execution_count": 8,
     "metadata": {},
     "output_type": "execute_result"
    }
   ],
   "source": [
    "df = load_trajectories(env_name)\n",
    "df.sort_values('episode_length').head()"
   ]
  },
  {
   "cell_type": "code",
   "execution_count": 9,
   "metadata": {},
   "outputs": [],
   "source": [
    "episode_lengths = list(df.episode_length.sort_values())\n",
    "min_len = min(episode_lengths)\n",
    "max_len = max(episode_lengths)\n",
    "\n",
    "step = (max_len - min_len) // 4\n",
    "selected_trajectories = []\n",
    "for val in range(min_len, max_len, step):\n",
    "    closest_episode_length = min(episode_lengths, key=lambda x:abs(x - val))\n",
    "    trajectory_row = df[df.episode_length == closest_episode_length].iloc[0]\n",
    "    selected_trajectories.append((trajectory_row.trajectory, trajectory_row.seed))\n",
    "trajectory_row = df[df.episode_length == 199].iloc[0]\n",
    "selected_trajectories.append((trajectory_row.trajectory, trajectory_row.seed))\n",
    "\n",
    "store_trajectories(env_name, selected_trajectories, env_params=None, discount=discount_factor,  filename='selected_trajectories')"
   ]
  },
  {
   "cell_type": "code",
   "execution_count": 10,
   "metadata": {},
   "outputs": [
    {
     "name": "stdout",
     "output_type": "stream",
     "text": [
      "         env_name env_params  episode_length  max_reward  seed  \\\n",
      "0  MountainCar-v0       None              87        -1.0   478   \n",
      "1  MountainCar-v0       None             113        -1.0   497   \n",
      "2  MountainCar-v0       None             150        -1.0   452   \n",
      "3  MountainCar-v0       None             171        -1.0   260   \n",
      "4  MountainCar-v0       None             199        -1.0   378   \n",
      "5  MountainCar-v0       None             199        -1.0   378   \n",
      "\n",
      "   sum_discounted_reward  sum_reward  \\\n",
      "0             -58.287912       -87.0   \n",
      "1             -67.879893      -113.0   \n",
      "2             -77.854821      -150.0   \n",
      "3             -82.068432      -171.0   \n",
      "4             -86.466700      -199.0   \n",
      "5             -86.466700      -199.0   \n",
      "\n",
      "                                          trajectory  \n",
      "0  [([-0.40035870598310025, 0.0], 0, -1.0, [-0.40...  \n",
      "1  [([-0.42109250560191724, 0.0], 0, -1.0, [-0.42...  \n",
      "2  [([-0.5182939385094532, 0.0], 0, -1.0, [-0.519...  \n",
      "3  [([-0.4100812117308062, 0.0], 0, -1.0, [-0.411...  \n",
      "4  [([-0.4102360748484546, 0.0], 0, -1.0, [-0.412...  \n",
      "5  [([-0.4102360748484546, 0.0], 0, -1.0, [-0.412...  \n"
     ]
    }
   ],
   "source": [
    "selected_trajectories = load_trajectories(env_name, filename='selected_trajectories')\n",
    "print(selected_trajectories)"
   ]
  },
  {
   "cell_type": "code",
   "execution_count": 11,
   "metadata": {},
   "outputs": [
    {
     "data": {
      "text/plain": [
       "PolynomialNetwork(\n",
       "  (l1): Linear(in_features=6, out_features=3, bias=True)\n",
       ")"
      ]
     },
     "execution_count": 11,
     "metadata": {},
     "output_type": "execute_result"
    }
   ],
   "source": [
    "model = load_model(env_name)\n",
    "model"
   ]
  },
  {
   "cell_type": "code",
   "execution_count": 12,
   "metadata": {},
   "outputs": [
    {
     "data": {
      "image/png": "[encoded data removed]",
      "text/plain": [
       "<matplotlib.figure.Figure at 0x116fd3fd0>"
      ]
     },
     "metadata": {},
     "output_type": "display_data"
    }
   ],
   "source": [
    "play_episodes(env, model, n=100, render=False)"
   ]
  }
 ],
 "metadata": {
  "kernelspec": {
   "display_name": "Python [conda env:py36]",
   "language": "python",
   "name": "conda-env-py36-py"
  },
  "language_info": {
   "codemirror_mode": {
    "name": "ipython",
    "version": 3
   },
   "file_extension": ".py",
   "mimetype": "text/x-python",
   "name": "python",
   "nbconvert_exporter": "python",
   "pygments_lexer": "ipython3",
   "version": "3.6.4"
  }
 },
 "nbformat": 4,
 "nbformat_minor": 2
}
